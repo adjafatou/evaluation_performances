{
 "cells": [
  {
   "cell_type": "code",
   "execution_count": 2,
   "id": "b60765e0",
   "metadata": {},
   "outputs": [],
   "source": [
    "import pandas as pd"
   ]
  },
  {
   "cell_type": "code",
   "execution_count": null,
   "id": "ef66d4fe",
   "metadata": {},
   "outputs": [
    {
     "data": {
      "application/vnd.microsoft.datawrangler.viewer.v0+json": {
       "columns": [
        {
         "name": "index",
         "rawType": "int64",
         "type": "integer"
        },
        {
         "name": "category",
         "rawType": "object",
         "type": "string"
        },
        {
         "name": "type",
         "rawType": "object",
         "type": "string"
        },
        {
         "name": "difficulty",
         "rawType": "object",
         "type": "string"
        },
        {
         "name": "question",
         "rawType": "object",
         "type": "string"
        },
        {
         "name": "correct_answer",
         "rawType": "object",
         "type": "string"
        },
        {
         "name": "incorrect_answers",
         "rawType": "object",
         "type": "string"
        }
       ],
       "ref": "04d3afe6-241f-4ac9-ac1d-a9b3fe55a133",
       "rows": [
        [
         "0",
         "Entertainment: Video Games",
         "multiple",
         "medium",
         "In World of Warcraft lore,  how many siblings does Sylvanas Windrunner have?",
         "3",
         "[\"2\", \"4\", \"1\"]"
        ],
        [
         "1",
         "Mythology",
         "boolean",
         "medium",
         "In Greek mythology, Hera is the goddess of harvest.",
         "False",
         "[\"True\"]"
        ],
        [
         "2",
         "Animals",
         "multiple",
         "hard",
         "To which biological phylum do all mammals, birds and reptiles belong?",
         "Chordata",
         "[\"Echinodermata\", \"Annelida\", \"Placazoa\"]"
        ],
        [
         "3",
         "History",
         "multiple",
         "hard",
         "Before the American colonies switched to the Gregorian calendar in 1752, on what date did their new year start?",
         "March 25th",
         "[\"June 1st\", \"September 25th\", \"December 1st\"]"
        ],
        [
         "4",
         "Entertainment: Video Games",
         "multiple",
         "medium",
         "In The Elder Scrolls V: Skyrim, who is the jester in the dark brotherhood?",
         "Cicero",
         "[\"Lucien Lachance\", \"Archimedes\", \"Astrid\"]"
        ],
        [
         "5",
         "Science: Gadgets",
         "multiple",
         "easy",
         "Which gaming console is developed by Sony?",
         "PlayStation",
         "[\"Xbox\", \"Atari\", \"Nintendo Switch\"]"
        ],
        [
         "6",
         "Entertainment: Books",
         "multiple",
         "easy",
         "What is the name of Sherlock Holmes's brother?",
         "Mycroft Holmes",
         "[\"Mederi Holmes\", \"Martin Holmes\", \"Herbie Hancock Holmes\"]"
        ],
        [
         "7",
         "History",
         "boolean",
         "medium",
         "Franz Joseph I was the last emperor of Austria.",
         "False",
         "[\"True\"]"
        ],
        [
         "8",
         "Vehicles",
         "multiple",
         "hard",
         "How much horsepower is produced by the SD40-2 Locomotive?",
         "3,000",
         "[\"3,200\", \"2,578\", \"2,190\"]"
        ],
        [
         "9",
         "Sports",
         "multiple",
         "easy",
         "What is the name of Manchester United's home stadium?",
         "Old Trafford",
         "[\"Anfield\", \"City of Manchester Stadium\", \"St James Park\"]"
        ],
        [
         "10",
         "Entertainment: Television",
         "multiple",
         "medium",
         "Which track by \"Massive Attack\" is used for the theme of \"House\"? ",
         "Teardrop",
         "[\"Protection\", \"Angel\", \"Black Milk\"]"
        ],
        [
         "11",
         "Entertainment: Music",
         "multiple",
         "medium",
         "Which of these albums is a Wu-Tang Clan album?",
         "Iron Flag",
         "[\"Perfect Hair\", \"The Low End Theory\", \"Licensed to Ill\"]"
        ],
        [
         "12",
         "Entertainment: Books",
         "multiple",
         "medium",
         "Who is the protagonist of the book: \"The Catcher in the Rye\" by J.D. Salinger",
         "Holden Caulfield",
         "[\"Holden David\", \"Jerome Caulfield\", \"Jerome David\"]"
        ],
        [
         "13",
         "Entertainment: Video Games",
         "multiple",
         "medium",
         "In Night In The Woods, what is Mae Borowski mother's name?",
         "Candy",
         "[\"Jenny\", \"Margaret\", \"Kate\"]"
        ],
        [
         "14",
         "Celebrities",
         "multiple",
         "easy",
         "What does film maker Dan Bell typically focus his films on?",
         "Abandoned Buildings and Dead Malls",
         "[\"Historic Landmarks\", \"Action Films\", \"Documentaries \"]"
        ],
        [
         "15",
         "Politics",
         "boolean",
         "medium",
         "The State of Queensland, Australia voted NO to a referendum for daylight savings in 1992.",
         "True",
         "[\"False\"]"
        ],
        [
         "16",
         "Geography",
         "boolean",
         "medium",
         "The flag of South Africa features 7 colours.",
         "False",
         "[\"True\"]"
        ],
        [
         "17",
         "Entertainment: Books",
         "boolean",
         "easy",
         "Stephen Chbosky wrote the book 'The Perks of Being A Wallflower'.",
         "True",
         "[\"False\"]"
        ],
        [
         "18",
         "Entertainment: Television",
         "boolean",
         "medium",
         "In \"Star Trek: The Next Generation\", Data is the only android in existence.",
         "False",
         "[\"True\"]"
        ],
        [
         "19",
         "Entertainment: Video Games",
         "multiple",
         "hard",
         "In Left 4 Dead, what is the character Bill's last name?",
         "Overbeck",
         "[\"Fish\", \"Roberts\", \"Stevenson\"]"
        ],
        [
         "20",
         "General Knowledge",
         "multiple",
         "easy",
         "In aerodynamics, which force pushes an object upwards?",
         "Lift",
         "[\"Drag\", \"Weight\", \"Thrust\"]"
        ],
        [
         "21",
         "Entertainment: Video Games",
         "multiple",
         "hard",
         "In \"Need for Speed III: Hot Pursuit\", what is the name of the fictional car?",
         "El Niño",
         "[\"Rápido\", \"Ágil\", \"La Niña\"]"
        ],
        [
         "22",
         "Entertainment: Music",
         "boolean",
         "medium",
         "\"The Division Bell\" is the final album of the progressive rock band Pink Floyd.",
         "False",
         "[\"True\"]"
        ],
        [
         "23",
         "Entertainment: Japanese Anime & Manga",
         "multiple",
         "medium",
         "What is the name of the device that allows for infinite energy in the anime \"Dimension W\"?",
         "Coils",
         "[\"Wires\", \"Collectors\", \"Tesla\"]"
        ],
        [
         "24",
         "History",
         "multiple",
         "easy",
         "The idea of Socialism was articulated and advanced by whom?",
         "Karl Marx",
         "[\"Vladimir Lenin\", \"Joseph Stalin\", \"Vladimir Putin\"]"
        ],
        [
         "25",
         "Entertainment: Film",
         "multiple",
         "easy",
         "What breed of dog was Marley in the film \"Marley & Me\" (2008)?",
         "Labrador Retriever",
         "[\"Golden Retriever\", \"Dalmatian\", \"Shiba Inu\"]"
        ],
        [
         "26",
         "Sports",
         "boolean",
         "medium",
         "Formula E is an auto racing series that uses hybrid electric race cars.",
         "False",
         "[\"True\"]"
        ],
        [
         "27",
         "Entertainment: Board Games",
         "multiple",
         "hard",
         "The board game \"Ra\" was designed by which designer? ",
         "Reiner Knizia",
         "[\"Bruno Cathala\", \"Uwe Rosenburg\", \"Allison Kline\"]"
        ],
        [
         "28",
         "Entertainment: Music",
         "multiple",
         "easy",
         "Finish these lyrics from the 2016 song \"Panda\" by Desiigner: \"I got broads in _______\".",
         "Atlanta",
         "[\"Savannah\", \"Augusta\", \"Marietta\"]"
        ],
        [
         "29",
         "General Knowledge",
         "multiple",
         "easy",
         "In \"Shrek\", what comedic actor voices Donkey?",
         "Eddie Murphy",
         "[\"Chris Rock\", \"Richard Pryor\", \"Bernie Mac\"]"
        ],
        [
         "30",
         "General Knowledge",
         "boolean",
         "medium",
         "The French word for \"glass\" is \"glace\".",
         "False",
         "[\"True\"]"
        ],
        [
         "31",
         "Geography",
         "boolean",
         "easy",
         "There is an island in Japan called Ōkunoshima, A.K.A. \"Rabbit Island\", so named because of it's huge population of rabbits.",
         "True",
         "[\"False\"]"
        ],
        [
         "32",
         "Sports",
         "multiple",
         "easy",
         "This Canadian television sportscaster is known for his \"Hockey Night in Canada\" role, a commentary show during hockey games.",
         "Don Cherry",
         "[\"Don McKellar\", \"Don Taylor \", \"Donald Sutherland\"]"
        ],
        [
         "33",
         "Entertainment: Video Games",
         "multiple",
         "hard",
         "In Halo 2, how many rounds does the M6C hold in a single magazine?",
         "12",
         "[\"6\", \"36\", \"18\"]"
        ],
        [
         "34",
         "Politics",
         "multiple",
         "medium",
         "What country saw a world record 315 million voters turn out for elections on May 20, 1991?",
         "India",
         "[\"United States of America\", \"Soviet Union\", \"Poland\"]"
        ],
        [
         "35",
         "Entertainment: Video Games",
         "multiple",
         "easy",
         "Which character in Undertale tells you that you're \"gonna have a bad time\"?",
         "Sans",
         "[\"Undyne\", \"Asgore\", \"Asriel Dreemurr\"]"
        ],
        [
         "36",
         "Entertainment: Board Games",
         "multiple",
         "easy",
         "Which of the following is NOT a class in Dungeons and Dragons 5e?",
         "Engineer ",
         "[\"Fighter \", \"Paladin \", \"Bard\"]"
        ],
        [
         "37",
         "History",
         "boolean",
         "medium",
         "The Korean War ended in 1953 without any ceasefire.",
         "False",
         "[\"True\"]"
        ],
        [
         "38",
         "Entertainment: Board Games",
         "multiple",
         "easy",
         "What is the maximum level you can have in a single class in Dungeons and Dragons (5e)?",
         "20",
         "[\"30\", \"15\", \"25\"]"
        ],
        [
         "39",
         "Entertainment: Japanese Anime & Manga",
         "multiple",
         "medium",
         "In JoJo's Bizarre Adventure, which character is able to accelerate time?",
         "Enrico Pucci",
         "[\"Jotaro Kujo\", \"Jolyne Cujoh\", \"Kujo Jotaro\"]"
        ],
        [
         "40",
         "Science & Nature",
         "multiple",
         "hard",
         "In the Scoville scale, what is the hottest chemical?",
         "Resiniferatoxin",
         "[\"Capsaicin\", \"Dihydrocapsaicin\", \"Tinyatoxin\"]"
        ],
        [
         "41",
         "General Knowledge",
         "multiple",
         "easy",
         "The Flag of the European Union has how many stars on it?",
         "12",
         "[\"10\", \"14\", \"16\"]"
        ],
        [
         "42",
         "Entertainment: Video Games",
         "multiple",
         "easy",
         "Which company developed the free battle royale game Fortnite?",
         "Epic Games",
         "[\"Valve\", \"Ubisoft\", \"Square Enix\"]"
        ],
        [
         "43",
         "Entertainment: Video Games",
         "boolean",
         "medium",
         "David Baszucki was a co-founder of ROBLOX Corporation.",
         "True",
         "[\"False\"]"
        ],
        [
         "44",
         "Science: Computers",
         "boolean",
         "hard",
         "The T-Mobile Sidekick smartphone is a re-branded version of the Danger Hiptop.",
         "True",
         "[\"False\"]"
        ],
        [
         "45",
         "Entertainment: Film",
         "multiple",
         "medium",
         "Who was the director of \"Scott Pilgrim vs. the World (2010)\"?",
         "Edgar Wright",
         "[\"Phil Lord\", \"Chris Miller\", \"Seth Rogan\"]"
        ],
        [
         "46",
         "Entertainment: Music",
         "multiple",
         "medium",
         "Which Aerosmith album featured \"Walk This Way\"?",
         "Toys in the Attic",
         "[\"Rocks\", \"Get Your Wings\", \"Draw the Line\"]"
        ],
        [
         "47",
         "Entertainment: Television",
         "multiple",
         "medium",
         "On the NBC show Community what was Star Burns' real name?",
         "Alex",
         "[\"Todd\", \"Neal\", \"Grimus\"]"
        ],
        [
         "48",
         "Entertainment: Cartoon & Animations",
         "multiple",
         "easy",
         "What was the name of the sea witch in the 1989 Disney film \"The Little Mermaid\"?",
         "Ursula",
         "[\"Madam Mim\", \"Maleficent\", \"Lady Tremaine\"]"
        ],
        [
         "49",
         "Entertainment: Film",
         "multiple",
         "hard",
         "What was the name of the planet in \"Aliens\"?",
         "LV-426",
         "[\"Weyland Yutani Corporation Base\", \"FR-838\", \"DI-621\"]"
        ]
       ],
       "shape": {
        "columns": 6,
        "rows": 4500
       }
      },
      "text/html": [
       "<div>\n",
       "<style scoped>\n",
       "    .dataframe tbody tr th:only-of-type {\n",
       "        vertical-align: middle;\n",
       "    }\n",
       "\n",
       "    .dataframe tbody tr th {\n",
       "        vertical-align: top;\n",
       "    }\n",
       "\n",
       "    .dataframe thead th {\n",
       "        text-align: right;\n",
       "    }\n",
       "</style>\n",
       "<table border=\"1\" class=\"dataframe\">\n",
       "  <thead>\n",
       "    <tr style=\"text-align: right;\">\n",
       "      <th></th>\n",
       "      <th>category</th>\n",
       "      <th>type</th>\n",
       "      <th>difficulty</th>\n",
       "      <th>question</th>\n",
       "      <th>correct_answer</th>\n",
       "      <th>incorrect_answers</th>\n",
       "    </tr>\n",
       "  </thead>\n",
       "  <tbody>\n",
       "    <tr>\n",
       "      <th>0</th>\n",
       "      <td>Entertainment: Video Games</td>\n",
       "      <td>multiple</td>\n",
       "      <td>medium</td>\n",
       "      <td>In World of Warcraft lore,  how many siblings ...</td>\n",
       "      <td>3</td>\n",
       "      <td>[\"2\", \"4\", \"1\"]</td>\n",
       "    </tr>\n",
       "    <tr>\n",
       "      <th>1</th>\n",
       "      <td>Mythology</td>\n",
       "      <td>boolean</td>\n",
       "      <td>medium</td>\n",
       "      <td>In Greek mythology, Hera is the goddess of har...</td>\n",
       "      <td>False</td>\n",
       "      <td>[\"True\"]</td>\n",
       "    </tr>\n",
       "    <tr>\n",
       "      <th>2</th>\n",
       "      <td>Animals</td>\n",
       "      <td>multiple</td>\n",
       "      <td>hard</td>\n",
       "      <td>To which biological phylum do all mammals, bir...</td>\n",
       "      <td>Chordata</td>\n",
       "      <td>[\"Echinodermata\", \"Annelida\", \"Placazoa\"]</td>\n",
       "    </tr>\n",
       "    <tr>\n",
       "      <th>3</th>\n",
       "      <td>History</td>\n",
       "      <td>multiple</td>\n",
       "      <td>hard</td>\n",
       "      <td>Before the American colonies switched to the G...</td>\n",
       "      <td>March 25th</td>\n",
       "      <td>[\"June 1st\", \"September 25th\", \"December 1st\"]</td>\n",
       "    </tr>\n",
       "    <tr>\n",
       "      <th>4</th>\n",
       "      <td>Entertainment: Video Games</td>\n",
       "      <td>multiple</td>\n",
       "      <td>medium</td>\n",
       "      <td>In The Elder Scrolls V: Skyrim, who is the jes...</td>\n",
       "      <td>Cicero</td>\n",
       "      <td>[\"Lucien Lachance\", \"Archimedes\", \"Astrid\"]</td>\n",
       "    </tr>\n",
       "    <tr>\n",
       "      <th>...</th>\n",
       "      <td>...</td>\n",
       "      <td>...</td>\n",
       "      <td>...</td>\n",
       "      <td>...</td>\n",
       "      <td>...</td>\n",
       "      <td>...</td>\n",
       "    </tr>\n",
       "    <tr>\n",
       "      <th>4495</th>\n",
       "      <td>Entertainment: Musicals &amp; Theatres</td>\n",
       "      <td>multiple</td>\n",
       "      <td>hard</td>\n",
       "      <td>After England, more Shakespeare plays are set ...</td>\n",
       "      <td>Italy</td>\n",
       "      <td>[\"United States\", \"Greece\", \"France\"]</td>\n",
       "    </tr>\n",
       "    <tr>\n",
       "      <th>4496</th>\n",
       "      <td>Entertainment: Film</td>\n",
       "      <td>multiple</td>\n",
       "      <td>medium</td>\n",
       "      <td>In what year was the movie \"Police Academy\" re...</td>\n",
       "      <td>1984</td>\n",
       "      <td>[\"1986\", \"1985\", \"1983\"]</td>\n",
       "    </tr>\n",
       "    <tr>\n",
       "      <th>4497</th>\n",
       "      <td>Geography</td>\n",
       "      <td>multiple</td>\n",
       "      <td>medium</td>\n",
       "      <td>Montreal is in which Canadian province?</td>\n",
       "      <td>Quebec</td>\n",
       "      <td>[\"Ontario\", \"Nova Scotia\", \"Alberta\"]</td>\n",
       "    </tr>\n",
       "    <tr>\n",
       "      <th>4498</th>\n",
       "      <td>Science: Mathematics</td>\n",
       "      <td>multiple</td>\n",
       "      <td>hard</td>\n",
       "      <td>What is the approximate value of mathematical ...</td>\n",
       "      <td>2.72</td>\n",
       "      <td>[\"3.14\", \"1.62\", \"1.41\"]</td>\n",
       "    </tr>\n",
       "    <tr>\n",
       "      <th>4499</th>\n",
       "      <td>History</td>\n",
       "      <td>multiple</td>\n",
       "      <td>easy</td>\n",
       "      <td>In which year did the Invasion of Kuwait by Ir...</td>\n",
       "      <td>1990</td>\n",
       "      <td>[\"1992\", \"1988\", \"1986\"]</td>\n",
       "    </tr>\n",
       "  </tbody>\n",
       "</table>\n",
       "<p>4500 rows × 6 columns</p>\n",
       "</div>"
      ],
      "text/plain": [
       "                                category      type difficulty  \\\n",
       "0             Entertainment: Video Games  multiple     medium   \n",
       "1                              Mythology   boolean     medium   \n",
       "2                                Animals  multiple       hard   \n",
       "3                                History  multiple       hard   \n",
       "4             Entertainment: Video Games  multiple     medium   \n",
       "...                                  ...       ...        ...   \n",
       "4495  Entertainment: Musicals & Theatres  multiple       hard   \n",
       "4496                 Entertainment: Film  multiple     medium   \n",
       "4497                           Geography  multiple     medium   \n",
       "4498                Science: Mathematics  multiple       hard   \n",
       "4499                             History  multiple       easy   \n",
       "\n",
       "                                               question correct_answer  \\\n",
       "0     In World of Warcraft lore,  how many siblings ...              3   \n",
       "1     In Greek mythology, Hera is the goddess of har...          False   \n",
       "2     To which biological phylum do all mammals, bir...       Chordata   \n",
       "3     Before the American colonies switched to the G...     March 25th   \n",
       "4     In The Elder Scrolls V: Skyrim, who is the jes...         Cicero   \n",
       "...                                                 ...            ...   \n",
       "4495  After England, more Shakespeare plays are set ...          Italy   \n",
       "4496  In what year was the movie \"Police Academy\" re...           1984   \n",
       "4497            Montreal is in which Canadian province?         Quebec   \n",
       "4498  What is the approximate value of mathematical ...           2.72   \n",
       "4499  In which year did the Invasion of Kuwait by Ir...           1990   \n",
       "\n",
       "                                   incorrect_answers  \n",
       "0                                    [\"2\", \"4\", \"1\"]  \n",
       "1                                           [\"True\"]  \n",
       "2          [\"Echinodermata\", \"Annelida\", \"Placazoa\"]  \n",
       "3     [\"June 1st\", \"September 25th\", \"December 1st\"]  \n",
       "4        [\"Lucien Lachance\", \"Archimedes\", \"Astrid\"]  \n",
       "...                                              ...  \n",
       "4495           [\"United States\", \"Greece\", \"France\"]  \n",
       "4496                        [\"1986\", \"1985\", \"1983\"]  \n",
       "4497           [\"Ontario\", \"Nova Scotia\", \"Alberta\"]  \n",
       "4498                        [\"3.14\", \"1.62\", \"1.41\"]  \n",
       "4499                        [\"1992\", \"1988\", \"1986\"]  \n",
       "\n",
       "[4500 rows x 6 columns]"
      ]
     },
     "execution_count": 3,
     "metadata": {},
     "output_type": "execute_result"
    }
   ],
   "source": [
    "#1. Charger le dataset\n",
    "df = pd.read_csv(\"questions_raw.csv\", sep=\",\")\n",
    "df"
   ]
  },
  {
   "cell_type": "code",
   "execution_count": 6,
   "id": "d6b7d82f",
   "metadata": {},
   "outputs": [
    {
     "data": {
      "application/vnd.microsoft.datawrangler.viewer.v0+json": {
       "columns": [
        {
         "name": "index",
         "rawType": "int64",
         "type": "integer"
        },
        {
         "name": "category",
         "rawType": "object",
         "type": "string"
        },
        {
         "name": "type",
         "rawType": "object",
         "type": "string"
        },
        {
         "name": "difficulty",
         "rawType": "object",
         "type": "string"
        },
        {
         "name": "question",
         "rawType": "object",
         "type": "string"
        },
        {
         "name": "correct_answer",
         "rawType": "object",
         "type": "string"
        },
        {
         "name": "incorrect_answers",
         "rawType": "object",
         "type": "string"
        }
       ],
       "ref": "3a4b5751-d89f-40c4-a312-17283942ba91",
       "rows": [
        [
         "0",
         "Entertainment: Video Games",
         "multiple",
         "medium",
         "In World of Warcraft lore,  how many siblings does Sylvanas Windrunner have?",
         "3",
         "[\"2\", \"4\", \"1\"]"
        ],
        [
         "1",
         "Mythology",
         "boolean",
         "medium",
         "In Greek mythology, Hera is the goddess of harvest.",
         "False",
         "[\"True\"]"
        ],
        [
         "2",
         "Animals",
         "multiple",
         "hard",
         "To which biological phylum do all mammals, birds and reptiles belong?",
         "Chordata",
         "[\"Echinodermata\", \"Annelida\", \"Placazoa\"]"
        ],
        [
         "3",
         "History",
         "multiple",
         "hard",
         "Before the American colonies switched to the Gregorian calendar in 1752, on what date did their new year start?",
         "March 25th",
         "[\"June 1st\", \"September 25th\", \"December 1st\"]"
        ],
        [
         "4",
         "Entertainment: Video Games",
         "multiple",
         "medium",
         "In The Elder Scrolls V: Skyrim, who is the jester in the dark brotherhood?",
         "Cicero",
         "[\"Lucien Lachance\", \"Archimedes\", \"Astrid\"]"
        ],
        [
         "5",
         "Science: Gadgets",
         "multiple",
         "easy",
         "Which gaming console is developed by Sony?",
         "PlayStation",
         "[\"Xbox\", \"Atari\", \"Nintendo Switch\"]"
        ],
        [
         "6",
         "Entertainment: Books",
         "multiple",
         "easy",
         "What is the name of Sherlock Holmes's brother?",
         "Mycroft Holmes",
         "[\"Mederi Holmes\", \"Martin Holmes\", \"Herbie Hancock Holmes\"]"
        ],
        [
         "7",
         "History",
         "boolean",
         "medium",
         "Franz Joseph I was the last emperor of Austria.",
         "False",
         "[\"True\"]"
        ],
        [
         "8",
         "Vehicles",
         "multiple",
         "hard",
         "How much horsepower is produced by the SD40-2 Locomotive?",
         "3,000",
         "[\"3,200\", \"2,578\", \"2,190\"]"
        ],
        [
         "9",
         "Sports",
         "multiple",
         "easy",
         "What is the name of Manchester United's home stadium?",
         "Old Trafford",
         "[\"Anfield\", \"City of Manchester Stadium\", \"St James Park\"]"
        ],
        [
         "10",
         "Entertainment: Television",
         "multiple",
         "medium",
         "Which track by \"Massive Attack\" is used for the theme of \"House\"? ",
         "Teardrop",
         "[\"Protection\", \"Angel\", \"Black Milk\"]"
        ],
        [
         "11",
         "Entertainment: Music",
         "multiple",
         "medium",
         "Which of these albums is a Wu-Tang Clan album?",
         "Iron Flag",
         "[\"Perfect Hair\", \"The Low End Theory\", \"Licensed to Ill\"]"
        ],
        [
         "12",
         "Entertainment: Books",
         "multiple",
         "medium",
         "Who is the protagonist of the book: \"The Catcher in the Rye\" by J.D. Salinger",
         "Holden Caulfield",
         "[\"Holden David\", \"Jerome Caulfield\", \"Jerome David\"]"
        ],
        [
         "13",
         "Entertainment: Video Games",
         "multiple",
         "medium",
         "In Night In The Woods, what is Mae Borowski mother's name?",
         "Candy",
         "[\"Jenny\", \"Margaret\", \"Kate\"]"
        ],
        [
         "14",
         "Celebrities",
         "multiple",
         "easy",
         "What does film maker Dan Bell typically focus his films on?",
         "Abandoned Buildings and Dead Malls",
         "[\"Historic Landmarks\", \"Action Films\", \"Documentaries \"]"
        ],
        [
         "15",
         "Politics",
         "boolean",
         "medium",
         "The State of Queensland, Australia voted NO to a referendum for daylight savings in 1992.",
         "True",
         "[\"False\"]"
        ],
        [
         "16",
         "Geography",
         "boolean",
         "medium",
         "The flag of South Africa features 7 colours.",
         "False",
         "[\"True\"]"
        ],
        [
         "17",
         "Entertainment: Books",
         "boolean",
         "easy",
         "Stephen Chbosky wrote the book 'The Perks of Being A Wallflower'.",
         "True",
         "[\"False\"]"
        ],
        [
         "18",
         "Entertainment: Television",
         "boolean",
         "medium",
         "In \"Star Trek: The Next Generation\", Data is the only android in existence.",
         "False",
         "[\"True\"]"
        ],
        [
         "19",
         "Entertainment: Video Games",
         "multiple",
         "hard",
         "In Left 4 Dead, what is the character Bill's last name?",
         "Overbeck",
         "[\"Fish\", \"Roberts\", \"Stevenson\"]"
        ],
        [
         "20",
         "General Knowledge",
         "multiple",
         "easy",
         "In aerodynamics, which force pushes an object upwards?",
         "Lift",
         "[\"Drag\", \"Weight\", \"Thrust\"]"
        ],
        [
         "21",
         "Entertainment: Video Games",
         "multiple",
         "hard",
         "In \"Need for Speed III: Hot Pursuit\", what is the name of the fictional car?",
         "El Niño",
         "[\"Rápido\", \"Ágil\", \"La Niña\"]"
        ],
        [
         "22",
         "Entertainment: Music",
         "boolean",
         "medium",
         "\"The Division Bell\" is the final album of the progressive rock band Pink Floyd.",
         "False",
         "[\"True\"]"
        ],
        [
         "23",
         "Entertainment: Japanese Anime & Manga",
         "multiple",
         "medium",
         "What is the name of the device that allows for infinite energy in the anime \"Dimension W\"?",
         "Coils",
         "[\"Wires\", \"Collectors\", \"Tesla\"]"
        ],
        [
         "24",
         "History",
         "multiple",
         "easy",
         "The idea of Socialism was articulated and advanced by whom?",
         "Karl Marx",
         "[\"Vladimir Lenin\", \"Joseph Stalin\", \"Vladimir Putin\"]"
        ],
        [
         "25",
         "Entertainment: Film",
         "multiple",
         "easy",
         "What breed of dog was Marley in the film \"Marley & Me\" (2008)?",
         "Labrador Retriever",
         "[\"Golden Retriever\", \"Dalmatian\", \"Shiba Inu\"]"
        ],
        [
         "26",
         "Sports",
         "boolean",
         "medium",
         "Formula E is an auto racing series that uses hybrid electric race cars.",
         "False",
         "[\"True\"]"
        ],
        [
         "27",
         "Entertainment: Board Games",
         "multiple",
         "hard",
         "The board game \"Ra\" was designed by which designer? ",
         "Reiner Knizia",
         "[\"Bruno Cathala\", \"Uwe Rosenburg\", \"Allison Kline\"]"
        ],
        [
         "28",
         "Entertainment: Music",
         "multiple",
         "easy",
         "Finish these lyrics from the 2016 song \"Panda\" by Desiigner: \"I got broads in _______\".",
         "Atlanta",
         "[\"Savannah\", \"Augusta\", \"Marietta\"]"
        ],
        [
         "29",
         "General Knowledge",
         "multiple",
         "easy",
         "In \"Shrek\", what comedic actor voices Donkey?",
         "Eddie Murphy",
         "[\"Chris Rock\", \"Richard Pryor\", \"Bernie Mac\"]"
        ],
        [
         "30",
         "General Knowledge",
         "boolean",
         "medium",
         "The French word for \"glass\" is \"glace\".",
         "False",
         "[\"True\"]"
        ],
        [
         "31",
         "Geography",
         "boolean",
         "easy",
         "There is an island in Japan called Ōkunoshima, A.K.A. \"Rabbit Island\", so named because of it's huge population of rabbits.",
         "True",
         "[\"False\"]"
        ],
        [
         "32",
         "Sports",
         "multiple",
         "easy",
         "This Canadian television sportscaster is known for his \"Hockey Night in Canada\" role, a commentary show during hockey games.",
         "Don Cherry",
         "[\"Don McKellar\", \"Don Taylor \", \"Donald Sutherland\"]"
        ],
        [
         "33",
         "Entertainment: Video Games",
         "multiple",
         "hard",
         "In Halo 2, how many rounds does the M6C hold in a single magazine?",
         "12",
         "[\"6\", \"36\", \"18\"]"
        ],
        [
         "34",
         "Politics",
         "multiple",
         "medium",
         "What country saw a world record 315 million voters turn out for elections on May 20, 1991?",
         "India",
         "[\"United States of America\", \"Soviet Union\", \"Poland\"]"
        ],
        [
         "35",
         "Entertainment: Video Games",
         "multiple",
         "easy",
         "Which character in Undertale tells you that you're \"gonna have a bad time\"?",
         "Sans",
         "[\"Undyne\", \"Asgore\", \"Asriel Dreemurr\"]"
        ],
        [
         "36",
         "Entertainment: Board Games",
         "multiple",
         "easy",
         "Which of the following is NOT a class in Dungeons and Dragons 5e?",
         "Engineer ",
         "[\"Fighter \", \"Paladin \", \"Bard\"]"
        ],
        [
         "37",
         "History",
         "boolean",
         "medium",
         "The Korean War ended in 1953 without any ceasefire.",
         "False",
         "[\"True\"]"
        ],
        [
         "38",
         "Entertainment: Board Games",
         "multiple",
         "easy",
         "What is the maximum level you can have in a single class in Dungeons and Dragons (5e)?",
         "20",
         "[\"30\", \"15\", \"25\"]"
        ],
        [
         "39",
         "Entertainment: Japanese Anime & Manga",
         "multiple",
         "medium",
         "In JoJo's Bizarre Adventure, which character is able to accelerate time?",
         "Enrico Pucci",
         "[\"Jotaro Kujo\", \"Jolyne Cujoh\", \"Kujo Jotaro\"]"
        ],
        [
         "40",
         "Science & Nature",
         "multiple",
         "hard",
         "In the Scoville scale, what is the hottest chemical?",
         "Resiniferatoxin",
         "[\"Capsaicin\", \"Dihydrocapsaicin\", \"Tinyatoxin\"]"
        ],
        [
         "41",
         "General Knowledge",
         "multiple",
         "easy",
         "The Flag of the European Union has how many stars on it?",
         "12",
         "[\"10\", \"14\", \"16\"]"
        ],
        [
         "42",
         "Entertainment: Video Games",
         "multiple",
         "easy",
         "Which company developed the free battle royale game Fortnite?",
         "Epic Games",
         "[\"Valve\", \"Ubisoft\", \"Square Enix\"]"
        ],
        [
         "43",
         "Entertainment: Video Games",
         "boolean",
         "medium",
         "David Baszucki was a co-founder of ROBLOX Corporation.",
         "True",
         "[\"False\"]"
        ],
        [
         "44",
         "Science: Computers",
         "boolean",
         "hard",
         "The T-Mobile Sidekick smartphone is a re-branded version of the Danger Hiptop.",
         "True",
         "[\"False\"]"
        ],
        [
         "45",
         "Entertainment: Film",
         "multiple",
         "medium",
         "Who was the director of \"Scott Pilgrim vs. the World (2010)\"?",
         "Edgar Wright",
         "[\"Phil Lord\", \"Chris Miller\", \"Seth Rogan\"]"
        ],
        [
         "46",
         "Entertainment: Music",
         "multiple",
         "medium",
         "Which Aerosmith album featured \"Walk This Way\"?",
         "Toys in the Attic",
         "[\"Rocks\", \"Get Your Wings\", \"Draw the Line\"]"
        ],
        [
         "47",
         "Entertainment: Television",
         "multiple",
         "medium",
         "On the NBC show Community what was Star Burns' real name?",
         "Alex",
         "[\"Todd\", \"Neal\", \"Grimus\"]"
        ],
        [
         "48",
         "Entertainment: Cartoon & Animations",
         "multiple",
         "easy",
         "What was the name of the sea witch in the 1989 Disney film \"The Little Mermaid\"?",
         "Ursula",
         "[\"Madam Mim\", \"Maleficent\", \"Lady Tremaine\"]"
        ],
        [
         "49",
         "Entertainment: Film",
         "multiple",
         "hard",
         "What was the name of the planet in \"Aliens\"?",
         "LV-426",
         "[\"Weyland Yutani Corporation Base\", \"FR-838\", \"DI-621\"]"
        ]
       ],
       "shape": {
        "columns": 6,
        "rows": 4499
       }
      },
      "text/html": [
       "<div>\n",
       "<style scoped>\n",
       "    .dataframe tbody tr th:only-of-type {\n",
       "        vertical-align: middle;\n",
       "    }\n",
       "\n",
       "    .dataframe tbody tr th {\n",
       "        vertical-align: top;\n",
       "    }\n",
       "\n",
       "    .dataframe thead th {\n",
       "        text-align: right;\n",
       "    }\n",
       "</style>\n",
       "<table border=\"1\" class=\"dataframe\">\n",
       "  <thead>\n",
       "    <tr style=\"text-align: right;\">\n",
       "      <th></th>\n",
       "      <th>category</th>\n",
       "      <th>type</th>\n",
       "      <th>difficulty</th>\n",
       "      <th>question</th>\n",
       "      <th>correct_answer</th>\n",
       "      <th>incorrect_answers</th>\n",
       "    </tr>\n",
       "  </thead>\n",
       "  <tbody>\n",
       "    <tr>\n",
       "      <th>0</th>\n",
       "      <td>Entertainment: Video Games</td>\n",
       "      <td>multiple</td>\n",
       "      <td>medium</td>\n",
       "      <td>In World of Warcraft lore,  how many siblings ...</td>\n",
       "      <td>3</td>\n",
       "      <td>[\"2\", \"4\", \"1\"]</td>\n",
       "    </tr>\n",
       "    <tr>\n",
       "      <th>1</th>\n",
       "      <td>Mythology</td>\n",
       "      <td>boolean</td>\n",
       "      <td>medium</td>\n",
       "      <td>In Greek mythology, Hera is the goddess of har...</td>\n",
       "      <td>False</td>\n",
       "      <td>[\"True\"]</td>\n",
       "    </tr>\n",
       "    <tr>\n",
       "      <th>2</th>\n",
       "      <td>Animals</td>\n",
       "      <td>multiple</td>\n",
       "      <td>hard</td>\n",
       "      <td>To which biological phylum do all mammals, bir...</td>\n",
       "      <td>Chordata</td>\n",
       "      <td>[\"Echinodermata\", \"Annelida\", \"Placazoa\"]</td>\n",
       "    </tr>\n",
       "    <tr>\n",
       "      <th>3</th>\n",
       "      <td>History</td>\n",
       "      <td>multiple</td>\n",
       "      <td>hard</td>\n",
       "      <td>Before the American colonies switched to the G...</td>\n",
       "      <td>March 25th</td>\n",
       "      <td>[\"June 1st\", \"September 25th\", \"December 1st\"]</td>\n",
       "    </tr>\n",
       "    <tr>\n",
       "      <th>4</th>\n",
       "      <td>Entertainment: Video Games</td>\n",
       "      <td>multiple</td>\n",
       "      <td>medium</td>\n",
       "      <td>In The Elder Scrolls V: Skyrim, who is the jes...</td>\n",
       "      <td>Cicero</td>\n",
       "      <td>[\"Lucien Lachance\", \"Archimedes\", \"Astrid\"]</td>\n",
       "    </tr>\n",
       "    <tr>\n",
       "      <th>...</th>\n",
       "      <td>...</td>\n",
       "      <td>...</td>\n",
       "      <td>...</td>\n",
       "      <td>...</td>\n",
       "      <td>...</td>\n",
       "      <td>...</td>\n",
       "    </tr>\n",
       "    <tr>\n",
       "      <th>4495</th>\n",
       "      <td>Entertainment: Musicals &amp; Theatres</td>\n",
       "      <td>multiple</td>\n",
       "      <td>hard</td>\n",
       "      <td>After England, more Shakespeare plays are set ...</td>\n",
       "      <td>Italy</td>\n",
       "      <td>[\"United States\", \"Greece\", \"France\"]</td>\n",
       "    </tr>\n",
       "    <tr>\n",
       "      <th>4496</th>\n",
       "      <td>Entertainment: Film</td>\n",
       "      <td>multiple</td>\n",
       "      <td>medium</td>\n",
       "      <td>In what year was the movie \"Police Academy\" re...</td>\n",
       "      <td>1984</td>\n",
       "      <td>[\"1986\", \"1985\", \"1983\"]</td>\n",
       "    </tr>\n",
       "    <tr>\n",
       "      <th>4497</th>\n",
       "      <td>Geography</td>\n",
       "      <td>multiple</td>\n",
       "      <td>medium</td>\n",
       "      <td>Montreal is in which Canadian province?</td>\n",
       "      <td>Quebec</td>\n",
       "      <td>[\"Ontario\", \"Nova Scotia\", \"Alberta\"]</td>\n",
       "    </tr>\n",
       "    <tr>\n",
       "      <th>4498</th>\n",
       "      <td>Science: Mathematics</td>\n",
       "      <td>multiple</td>\n",
       "      <td>hard</td>\n",
       "      <td>What is the approximate value of mathematical ...</td>\n",
       "      <td>2.72</td>\n",
       "      <td>[\"3.14\", \"1.62\", \"1.41\"]</td>\n",
       "    </tr>\n",
       "    <tr>\n",
       "      <th>4499</th>\n",
       "      <td>History</td>\n",
       "      <td>multiple</td>\n",
       "      <td>easy</td>\n",
       "      <td>In which year did the Invasion of Kuwait by Ir...</td>\n",
       "      <td>1990</td>\n",
       "      <td>[\"1992\", \"1988\", \"1986\"]</td>\n",
       "    </tr>\n",
       "  </tbody>\n",
       "</table>\n",
       "<p>4499 rows × 6 columns</p>\n",
       "</div>"
      ],
      "text/plain": [
       "                                category      type difficulty  \\\n",
       "0             Entertainment: Video Games  multiple     medium   \n",
       "1                              Mythology   boolean     medium   \n",
       "2                                Animals  multiple       hard   \n",
       "3                                History  multiple       hard   \n",
       "4             Entertainment: Video Games  multiple     medium   \n",
       "...                                  ...       ...        ...   \n",
       "4495  Entertainment: Musicals & Theatres  multiple       hard   \n",
       "4496                 Entertainment: Film  multiple     medium   \n",
       "4497                           Geography  multiple     medium   \n",
       "4498                Science: Mathematics  multiple       hard   \n",
       "4499                             History  multiple       easy   \n",
       "\n",
       "                                               question correct_answer  \\\n",
       "0     In World of Warcraft lore,  how many siblings ...              3   \n",
       "1     In Greek mythology, Hera is the goddess of har...          False   \n",
       "2     To which biological phylum do all mammals, bir...       Chordata   \n",
       "3     Before the American colonies switched to the G...     March 25th   \n",
       "4     In The Elder Scrolls V: Skyrim, who is the jes...         Cicero   \n",
       "...                                                 ...            ...   \n",
       "4495  After England, more Shakespeare plays are set ...          Italy   \n",
       "4496  In what year was the movie \"Police Academy\" re...           1984   \n",
       "4497            Montreal is in which Canadian province?         Quebec   \n",
       "4498  What is the approximate value of mathematical ...           2.72   \n",
       "4499  In which year did the Invasion of Kuwait by Ir...           1990   \n",
       "\n",
       "                                   incorrect_answers  \n",
       "0                                    [\"2\", \"4\", \"1\"]  \n",
       "1                                           [\"True\"]  \n",
       "2          [\"Echinodermata\", \"Annelida\", \"Placazoa\"]  \n",
       "3     [\"June 1st\", \"September 25th\", \"December 1st\"]  \n",
       "4        [\"Lucien Lachance\", \"Archimedes\", \"Astrid\"]  \n",
       "...                                              ...  \n",
       "4495           [\"United States\", \"Greece\", \"France\"]  \n",
       "4496                        [\"1986\", \"1985\", \"1983\"]  \n",
       "4497           [\"Ontario\", \"Nova Scotia\", \"Alberta\"]  \n",
       "4498                        [\"3.14\", \"1.62\", \"1.41\"]  \n",
       "4499                        [\"1992\", \"1988\", \"1986\"]  \n",
       "\n",
       "[4499 rows x 6 columns]"
      ]
     },
     "execution_count": 6,
     "metadata": {},
     "output_type": "execute_result"
    }
   ],
   "source": [
    "df = df.drop_duplicates(['question'])\n",
    "df"
   ]
  }
 ],
 "metadata": {
  "kernelspec": {
   "display_name": ".venv",
   "language": "python",
   "name": "python3"
  },
  "language_info": {
   "codemirror_mode": {
    "name": "ipython",
    "version": 3
   },
   "file_extension": ".py",
   "mimetype": "text/x-python",
   "name": "python",
   "nbconvert_exporter": "python",
   "pygments_lexer": "ipython3",
   "version": "3.13.7"
  }
 },
 "nbformat": 4,
 "nbformat_minor": 5
}
